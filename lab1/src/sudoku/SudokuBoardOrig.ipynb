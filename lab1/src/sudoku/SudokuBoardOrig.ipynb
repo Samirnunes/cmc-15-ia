{
 "cells": [
  {
   "cell_type": "code",
   "execution_count": 3,
   "metadata": {},
   "outputs": [
    {
     "name": "stdout",
     "output_type": "stream",
     "text": [
      "#+------+-------+------+\n",
      "#|2 5   |     3 |   9 1|\n",
      "#|  1   |     4 |      |\n",
      "#|      |       |      |\n",
      "#+------+-------+------+\n",
      "#|      |       |      |\n",
      "#|      |       |      |\n",
      "#|      |       |      |\n",
      "#+------+-------+------+\n",
      "#|      |       |      |\n",
      "#|      |       |      |\n",
      "#|      |       |      |\n",
      "#+------+-------+------+\n"
     ]
    }
   ],
   "source": [
    "import numpy as np\n",
    "\n",
    "class SudokuBoard():\n",
    "    def __init__(self):\n",
    "        self.board=np.zeros((9,9),np.int64)\n",
    "    def set(self,row,col,value):\n",
    "        if row>=0 and row<9 and col>=0 and col<9:\n",
    "            self.board[row,col]=value\n",
    "            return True\n",
    "        return False\n",
    "    def set_all(self,values):\n",
    "        for value in values:\n",
    "            self.set(value[0],value[1],value[2])\n",
    "    def __str__(self):\n",
    "        rows = []\n",
    "        rows.append('#+------+-------+------+')\n",
    "        # passa por cada linha pegando numeros ou vazios\n",
    "        for y in range(9):\n",
    "            row=[]\n",
    "            for e in self.board[y,:]: # pega elementos da linha\n",
    "                if e==0:\n",
    "                    row.append(' ')\n",
    "                else:\n",
    "                    row.append(str(e))\n",
    "            # adiciona sepadores verticais\n",
    "            row.insert(3, '|')\n",
    "            row.insert(7, '|')\n",
    "            rows.append('#|'+' '.join(row)+'|') # coloca nas linhas separando cada elemento com um espaco\n",
    "            # Add a horizontal separator, if needed.\n",
    "            if y == 2 or y == 5 or y==8:\n",
    "                rows.append('#+------+-------+------+')\n",
    "\n",
    "        return '\\n'.join(rows)        \n",
    "\n",
    "    def solve(self):\n",
    "        \"\"\" \n",
    "            Retorna um board com a solucao respeitando os numeros \n",
    "            colocados inicialmente via set ou set_all\n",
    "        \"\"\"\n",
    "        pass\n",
    "\n",
    "board=SudokuBoard()\n",
    "\n",
    "board.set_all([\n",
    "    [0,0,2],[0,1,5],[0,5,3],[0,7,9],[0,8,1],\n",
    "    [1,1,1]\n",
    "])\n",
    "board.set(1,5,4)\n",
    "print(board)"
   ]
  }
 ],
 "metadata": {
  "kernelspec": {
   "display_name": "Python 3",
   "language": "python",
   "name": "python3"
  },
  "language_info": {
   "codemirror_mode": {
    "name": "ipython",
    "version": 3
   },
   "file_extension": ".py",
   "mimetype": "text/x-python",
   "name": "python",
   "nbconvert_exporter": "python",
   "pygments_lexer": "ipython3",
   "version": "3.8.0"
  }
 },
 "nbformat": 4,
 "nbformat_minor": 2
}
